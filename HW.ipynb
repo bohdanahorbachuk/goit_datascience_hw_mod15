{
 "cells": [
  {
   "cell_type": "code",
   "execution_count": 4,
   "id": "2b104e85",
   "metadata": {},
   "outputs": [
    {
     "name": "stderr",
     "output_type": "stream",
     "text": [
      "[nltk_data] Downloading package punkt to\n",
      "[nltk_data]     /Users/bogdanagorbachuk/nltk_data...\n",
      "[nltk_data]   Package punkt is already up-to-date!\n",
      "[nltk_data] Downloading package stopwords to\n",
      "[nltk_data]     /Users/bogdanagorbachuk/nltk_data...\n",
      "[nltk_data]   Package stopwords is already up-to-date!\n"
     ]
    }
   ],
   "source": [
    "import nltk\n",
    "import spacy\n",
    "from nltk.corpus import stopwords\n",
    "from nltk.tokenize import word_tokenize, sent_tokenize\n",
    "from string import punctuation\n",
    "from heapq import nlargest\n",
    "\n",
    "# завантаження даних для nltk\n",
    "nltk.download('punkt')\n",
    "nltk.download('stopwords')\n",
    "\n",
    "# завантаження моделі spaCy\n",
    "nlp = spacy.load(\"en_core_web_sm\")\n"
   ]
  },
  {
   "cell_type": "code",
   "execution_count": 5,
   "id": "bc773c60",
   "metadata": {},
   "outputs": [],
   "source": [
    "text = \"\"\"\n",
    "The Orbiter Discovery, OV-103, is considered eligible for listing in the National Register of Historic Places ...\n",
    "(here goes the full text you pasted about Discovery)\n",
    "\"\"\"\n"
   ]
  },
  {
   "cell_type": "code",
   "execution_count": 6,
   "id": "635cb09d",
   "metadata": {},
   "outputs": [
    {
     "name": "stdout",
     "output_type": "stream",
     "text": [
      "['\\n', 'The', 'Orbiter', 'Discovery', ',', 'OV-103', ',', 'is', 'considered', 'eligible', 'for', 'listing', 'in', 'the', 'National', 'Register', 'of', 'Historic', 'Places', '...', '\\n', '(', 'here', 'goes', 'the', 'full', 'text', 'you', 'pasted', 'about']\n"
     ]
    }
   ],
   "source": [
    "doc = nlp(text)\n",
    "\n",
    "# токени\n",
    "tokens = [token.text for token in doc]\n",
    "print(tokens[:30])   # приклад перших 30 токенів\n"
   ]
  },
  {
   "cell_type": "code",
   "execution_count": 9,
   "id": "80ef4ae0",
   "metadata": {},
   "outputs": [
    {
     "name": "stderr",
     "output_type": "stream",
     "text": [
      "[nltk_data] Downloading package punkt to\n",
      "[nltk_data]     /Users/bogdanagorbachuk/nltk_data...\n",
      "[nltk_data]   Package punkt is already up-to-date!\n",
      "[nltk_data] Downloading package punkt_tab to\n",
      "[nltk_data]     /Users/bogdanagorbachuk/nltk_data...\n",
      "[nltk_data]   Unzipping tokenizers/punkt_tab.zip.\n",
      "[nltk_data] Downloading package stopwords to\n",
      "[nltk_data]     /Users/bogdanagorbachuk/nltk_data...\n",
      "[nltk_data]   Package stopwords is already up-to-date!\n"
     ]
    },
    {
     "data": {
      "text/plain": [
       "True"
      ]
     },
     "execution_count": 9,
     "metadata": {},
     "output_type": "execute_result"
    }
   ],
   "source": [
    "import nltk\n",
    "\n",
    "# Завантаження потрібних ресурсів\n",
    "nltk.download('punkt')\n",
    "nltk.download('punkt_tab')\n",
    "nltk.download('stopwords')\n"
   ]
  },
  {
   "cell_type": "code",
   "execution_count": 10,
   "id": "c27f9f13",
   "metadata": {},
   "outputs": [],
   "source": [
    "from nltk.tokenize import word_tokenize, sent_tokenize\n",
    "from nltk.corpus import stopwords\n",
    "from string import punctuation\n",
    "\n",
    "# Розбиття на речення\n",
    "sentence_tokens = sent_tokenize(text)\n",
    "\n",
    "# Стоп-слова\n",
    "stop_words = set(stopwords.words('english'))\n",
    "\n",
    "# Частоти слів\n",
    "word_frequencies = {}\n",
    "for word in word_tokenize(text):\n",
    "    word = word.lower()\n",
    "    if word.isalpha() and word not in stop_words and word not in punctuation:\n",
    "        word_frequencies[word] = word_frequencies.get(word, 0) + 1\n",
    "\n",
    "# нормалізація (захист від ділення на 0)\n",
    "if word_frequencies:\n",
    "    max_freq = max(word_frequencies.values())\n",
    "    for word in word_frequencies.keys():\n",
    "        word_frequencies[word] /= max_freq\n"
   ]
  },
  {
   "cell_type": "code",
   "execution_count": 11,
   "id": "bf84514e",
   "metadata": {},
   "outputs": [],
   "source": [
    "sentence_scores = {}\n",
    "for sent in sentence_tokens:\n",
    "    for word in word_tokenize(sent.lower()):\n",
    "        if word in word_frequencies:\n",
    "            if len(sent.split(\" \")) < 40:   # уникаємо дуже довгих\n",
    "                if sent not in sentence_scores:\n",
    "                    sentence_scores[sent] = word_frequencies[word]\n",
    "                else:\n",
    "                    sentence_scores[sent] += word_frequencies[word]\n"
   ]
  },
  {
   "cell_type": "code",
   "execution_count": 12,
   "id": "175994fb",
   "metadata": {},
   "outputs": [
    {
     "name": "stdout",
     "output_type": "stream",
     "text": [
      "📌 Оригінал довжина: 26\n",
      "📌 Summary довжина: 26\n",
      "\n",
      "=== Summary ===\n",
      "\n",
      "\n",
      "The Orbiter Discovery, OV-103, is considered eligible for listing in the National Register of Historic Places ...\n",
      "(here goes the full text you pasted about Discovery)\n"
     ]
    }
   ],
   "source": [
    "# Кількість речень у summary (наприклад, 5)\n",
    "select_length = 5\n",
    "\n",
    "summary = nlargest(select_length, sentence_scores, key=sentence_scores.get)\n",
    "final_summary = \" \".join(summary)\n",
    "\n",
    "print(\"📌 Оригінал довжина:\", len(text.split()))\n",
    "print(\"📌 Summary довжина:\", len(final_summary.split()))\n",
    "print(\"\\n=== Summary ===\\n\")\n",
    "print(final_summary)\n"
   ]
  },
  {
   "cell_type": "markdown",
   "id": "d2d278ac",
   "metadata": {},
   "source": [
    "Discovery, the third of NASA's five shuttles, flew 39 missions, more than any other orbiter. \n",
    "It launched the Hubble Space Telescope and completed two servicing missions. \n",
    "Discovery played a key role in ISS construction, flying 13 missions and performing the first crew exchange. \n",
    "It was chosen as the \"Return to Flight\" vehicle after the Challenger and Columbia accidents. \n",
    "As an engineering feat, Discovery introduced reusable thermal protection and propulsion systems, marking a leap in space technology.\n"
   ]
  }
 ],
 "metadata": {
  "kernelspec": {
   "display_name": "Python 3",
   "language": "python",
   "name": "python3"
  },
  "language_info": {
   "codemirror_mode": {
    "name": "ipython",
    "version": 3
   },
   "file_extension": ".py",
   "mimetype": "text/x-python",
   "name": "python",
   "nbconvert_exporter": "python",
   "pygments_lexer": "ipython3",
   "version": "3.13.5"
  }
 },
 "nbformat": 4,
 "nbformat_minor": 5
}
